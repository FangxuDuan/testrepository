{
 "cells": [
  {
   "cell_type": "markdown",
   "id": "b45f88a9-02e2-4c57-8200-fc8981341dd6",
   "metadata": {},
   "source": [
    "# Data Science Tools and Ecosystem"
   ]
  },
  {
   "cell_type": "markdown",
   "id": "e619c9ae-1060-454d-b763-87af94bcb0cc",
   "metadata": {},
   "source": [
    "In this notebook, Data Science Tools and Ecosystem are summarized."
   ]
  },
  {
   "cell_type": "markdown",
   "id": "505721a5-e41c-401b-a1b6-829432c282c6",
   "metadata": {},
   "source": [
    "**Objectives:**\n",
    "- List popular languages for Data Science\n",
    "- Introduce Jupyter Notebook\n",
    "- Introduce Rstudio\n",
    "- Introduce Github"
   ]
  },
  {
   "cell_type": "markdown",
   "id": "95d783e8-a3ff-4b30-bea9-2843e47c693d",
   "metadata": {},
   "source": [
    "Some of the popular languages that Data Scientists use are:\n",
    "1. Python\n",
    "2. R\n",
    "3. Julia"
   ]
  },
  {
   "cell_type": "markdown",
   "id": "42167eb1-1008-4f3e-915b-d7d8ec60a2f9",
   "metadata": {},
   "source": [
    "Some of the commonly used libraries used by Data Scientists include:\n",
    "1. Scikit-learn\n",
    "2. Numpy\n",
    "3. Pandas"
   ]
  },
  {
   "cell_type": "markdown",
   "id": "3d8d36fc-d1dd-42de-8a3a-814b035679c6",
   "metadata": {},
   "source": [
    "| Data Science Tools|\n",
    "|-------------------|\n",
    "| Jupyter Notebook |\n",
    "| Rstudio |\n",
    "| VS code |"
   ]
  },
  {
   "cell_type": "markdown",
   "id": "a957f953-85c2-4a6f-9ff0-921332a453dd",
   "metadata": {},
   "source": [
    "Below are a few examples of evaluating arithmetic expressions in Python"
   ]
  },
  {
   "cell_type": "code",
   "execution_count": 4,
   "id": "8ee90424-9fc6-41c2-ab13-59d5853d5746",
   "metadata": {},
   "outputs": [
    {
     "data": {
      "text/plain": [
       "17"
      ]
     },
     "execution_count": 4,
     "metadata": {},
     "output_type": "execute_result"
    }
   ],
   "source": [
    "# This a simple arithmetic expression to mutiply then add integers\n",
    "(3*4)+5"
   ]
  },
  {
   "cell_type": "code",
   "execution_count": 5,
   "id": "1cb5cbaa-6129-4b26-9afc-9ad709cf60f8",
   "metadata": {},
   "outputs": [
    {
     "data": {
      "text/plain": [
       "3.3333333333333335"
      ]
     },
     "execution_count": 5,
     "metadata": {},
     "output_type": "execute_result"
    }
   ],
   "source": [
    "# This will convert 200 minutes to hours by diving by 60\n",
    "200/60"
   ]
  },
  {
   "cell_type": "markdown",
   "id": "63894c4e-f73b-4d52-8f02-6b8fc0da9193",
   "metadata": {},
   "source": [
    "## Author\n",
    "Fangxu Duan"
   ]
  },
  {
   "cell_type": "code",
   "execution_count": null,
   "id": "3df28ab9-7b8a-44a1-bbeb-9bfb08ad9064",
   "metadata": {},
   "outputs": [],
   "source": []
  }
 ],
 "metadata": {
  "kernelspec": {
   "display_name": "Python 3 (ipykernel)",
   "language": "python",
   "name": "python3"
  },
  "language_info": {
   "codemirror_mode": {
    "name": "ipython",
    "version": 3
   },
   "file_extension": ".py",
   "mimetype": "text/x-python",
   "name": "python",
   "nbconvert_exporter": "python",
   "pygments_lexer": "ipython3",
   "version": "3.12.8"
  }
 },
 "nbformat": 4,
 "nbformat_minor": 5
}
